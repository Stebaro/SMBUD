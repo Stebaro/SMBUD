{
 "cells": [
  {
   "cell_type": "code",
   "execution_count": 1,
   "metadata": {},
   "outputs": [],
   "source": [
    "from pyspark.sql import SparkSession\n",
    "\n",
    "spark = SparkSession \\\n",
    "    .builder \\\n",
    "    .master(\"local\") \\\n",
    "    .appName(\"Python Spark SQL delivery 3\") \\\n",
    "    .getOrCreate()\n",
    "\n",
    "sc = spark.sparkContext"
   ]
  },
  {
   "cell_type": "code",
   "execution_count": 2,
   "metadata": {},
   "outputs": [],
   "source": [
    "# A JSON dataset is pointed to by path.\n",
    "# The path can be either a single text file or a directory storing text files\n",
    "publications_file = \"publications.json\"\n",
    "venues_file = \"venues.json\"\n",
    "fos_file = \"fos.json\"\n",
    "rel_dw_file = \"rel_dw.json\"\n",
    "authors_file = \"authors.json\"\n",
    "\n",
    "publicationsDF = spark.read.json(publications_file)\n",
    "venuesDF = spark.read.json(venues_file)\n",
    "fosDF = spark.read.json(fos_file)\n",
    "rel_dwDF = spark.read.json(rel_dw_file)\n",
    "authorsDF = spark.read.json(authors_file)"
   ]
  },
  {
   "cell_type": "code",
   "execution_count": null,
   "metadata": {},
   "outputs": [],
   "source": [
    "# The inferred schema can be visualized using the printSchema() method\n",
    "# publicationsDF.printSchema()"
   ]
  },
  {
   "cell_type": "code",
   "execution_count": null,
   "metadata": {},
   "outputs": [],
   "source": [
    "# publicationsDF.show(truncate=True)"
   ]
  },
  {
   "cell_type": "code",
   "execution_count": 6,
   "metadata": {},
   "outputs": [],
   "source": [
    "from pyspark.sql.functions import col"
   ]
  },
  {
   "cell_type": "code",
   "execution_count": 10,
   "metadata": {},
   "outputs": [
    {
     "name": "stdout",
     "output_type": "stream",
     "text": [
      "+--------------------------------------------------------------------------------------------------+\n",
      "|title                                                                                             |\n",
      "+--------------------------------------------------------------------------------------------------+\n",
      "|A methodology for the physically accurate visualisation of roman polychrome statuary              |\n",
      "|Comparison of GARCH, Neural Network and Support Vector Machine in Financial Time Series Prediction|\n",
      "|COMPARING GNG3D AND QUADRIC ERROR METRICS METHODS TO SIMPLIFY 3D MESHES                           |\n",
      "|Vectorial fast correlation attacks.                                                               |\n",
      "|Improved Secret Image Sharing Method By Encoding Shared Values With Authentication Bits           |\n",
      "|Identifying Psychological Theme Words from Emotion Annotated Interviews                           |\n",
      "|A COMPUTATIONAL SALIENCY MODEL INTEGRATING SACCADE PROGRAMMING                                    |\n",
      "|Extracted knowledge interpretation in mining biological data: A survey                            |\n",
      "|Automated Object Identification and Position Estimation for Airport Lighting Quality Assessment   |\n",
      "|Face Detection, Recognition in an Image Sequence Using Eigenedginess.                             |\n",
      "|Qualitative Spatial and Temporal Reasoning in Cardiac Electrophysiology                           |\n",
      "|Speech recognition based on the integration of FSVQ and neural network.                           |\n",
      "|Auditory-based formant estimation in noise using a probabilistic framework.                       |\n",
      "|A Study on the Development of High Precision Cam Profile CNC Grinding Machine with CAD/CAM System.|\n",
      "|Simple Synchrony Networks: Learning Generalisations across Syntactic Constituents.                |\n",
      "|Multi-layer topology preserving mapping for K-means clustering                                    |\n",
      "|A general semantic analyser for data base access                                                  |\n",
      "|Kernel PLS variants for regression                                                                |\n",
      "|Two notes from experimental study on image steganalysis                                           |\n",
      "|Near-synonym choice in natural language generation                                                |\n",
      "+--------------------------------------------------------------------------------------------------+\n",
      "only showing top 20 rows\n",
      "\n"
     ]
    }
   ],
   "source": [
    "# WHERE, JOIN\n",
    "fosDF.filter(col(\"name\") == \"Artificial intelligence\").join(rel_dwDF, fosDF.id == rel_dwDF.fos_id, \"inner\").join(publicationsDF, rel_dwDF.pub_id == publicationsDF.id, \"inner\").select(\"title\").show(truncate=False)\n"
   ]
  },
  {
   "cell_type": "code",
   "execution_count": 51,
   "metadata": {},
   "outputs": [
    {
     "name": "stdout",
     "output_type": "stream",
     "text": [
      "+-----------------------------------------------------------------------+---------------------+---------------------+\n",
      "|publicationTitle                                                       |authorName           |affiliation          |\n",
      "+-----------------------------------------------------------------------+---------------------+---------------------+\n",
      "|COMPARING GNG3D AND QUADRIC ERROR METRICS METHODS TO SIMPLIFY 3D MESHES|José-Francisco Vicent|Politecnico di Bari  |\n",
      "|Vectorial fast correlation attacks.                                    |Jovan Dj. Golic      |Politecnico di Bari  |\n",
      "|Cleaneval: a Competition for Cleaning Web Pages                        |Marco Baroni         |Politecnico di Milano|\n",
      "|Face Detection, Recognition in an Image Sequence Using Eigenedginess.  |B. Yegnanarayana     |Politecnico di Bari  |\n",
      "|Speech recognition based on the integration of FSVQ and neural network.|Li-Qun Xu            |Politecnico di Bari  |\n",
      "+-----------------------------------------------------------------------+---------------------+---------------------+\n",
      "\n"
     ]
    }
   ],
   "source": [
    "# WHERE, LIMIT, LIKE\n",
    "from pyspark.sql.functions import expr\n",
    "authorsDF.withColumnRenamed(\"id\", \"authorId\").filter(col(\"affiliation\").like(\"%Politecnico%\")).limit(5).join(publicationsDF, expr(\n",
    "    \"array_contains(authors, authorId)\")).select(col(\"title\").alias(\"publicationTitle\"), col(\"name\").alias(\"authorName\"), \"affiliation\").show(truncate=False)\n",
    "\n",
    "authorsDF.withColumnRenamed(\"id\", \"authorId\").filter(\n",
    "    col(\"affiliation\").like(\"%Politecnico%\")).limit(5)\n",
    "publicationsDF.select(count(.name)).show()\n"
   ]
  },
  {
   "cell_type": "code",
   "execution_count": null,
   "metadata": {},
   "outputs": [],
   "source": [
    "# We can count these authors publications and find out that they have published only 1 paper each\n",
    "authorsDF.withColumnRenamed(\"id\", \"authorId\").filter(col(\"affiliation\").like(\"%Politecnico%\")).limit(5).show()"
   ]
  }
 ],
 "metadata": {
  "kernelspec": {
   "display_name": "Python 3.8.5 32-bit",
   "language": "python",
   "name": "python3"
  },
  "language_info": {
   "codemirror_mode": {
    "name": "ipython",
    "version": 3
   },
   "file_extension": ".py",
   "mimetype": "text/x-python",
   "name": "python",
   "nbconvert_exporter": "python",
   "pygments_lexer": "ipython3",
   "version": "3.8.5"
  },
  "orig_nbformat": 4,
  "vscode": {
   "interpreter": {
    "hash": "bd4b2fe26317b7ec64feb19a37ee5bffc9abe9b6e719a1294be7c9890de86bdd"
   }
  }
 },
 "nbformat": 4,
 "nbformat_minor": 2
}
