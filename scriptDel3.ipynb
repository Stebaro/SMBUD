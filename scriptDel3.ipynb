{
 "cells": [
  {
   "cell_type": "markdown",
   "metadata": {},
   "source": [
    "------------------------------------------------- Nuovo script -------------------------------------------------"
   ]
  },
  {
   "cell_type": "code",
   "execution_count": 2,
   "metadata": {},
   "outputs": [],
   "source": [
    "from pyspark.sql import SparkSession\n",
    "from pyspark.sql.functions import when, lit, collect_list, col, regexp_replace, size, expr, count, array_contains\n",
    "\n",
    "# Create an entry point to the PySpark Application\n",
    "spark = SparkSession.builder \\\n",
    "    .master(\"local\") \\\n",
    "    .appName(\"MyFirstSparkApplication\") \\\n",
    "    .getOrCreate()\n",
    "# master contains the URL of your remote spark instance or 'local'\n"
   ]
  },
  {
   "cell_type": "code",
   "execution_count": 3,
   "metadata": {},
   "outputs": [],
   "source": [
    "vectASIA = [\"Department of Statistics, Rajshahi University, Rajshahi, Bangladesh\",\n",
    "            \"Department of Computer Science & Engineering, BUET, Dhaka, Bangladesh\",\n",
    "            'Department of System Design and Informatics, Kyushu Institute of Technology, Fukuka, Japan',\n",
    "            \"Corporate Research and Development Center, Toshiba Corporation, Kawasaki, Japan\",\n",
    "            \"Institute of Industrial Science, University of Tokyo, Meguro-Ku, Japan\", \"continent\",\n",
    "            \"Department of Human and Artificial Intelligence System, Graduate School of Engineering, University of Fukui, Japan\",\n",
    "            \"Department of Computer Science, Faculty of Engineering, Yamanashi University, Kofu, Japan\",\n",
    "            \"Nippon Hoso Kyokai\", \"Shinshu University\", 'Nagano Prefectural College']\n",
    "\n",
    "vectEU = [\"Università della Calabria\", \"Università degli Studi di Modena e Reggio Emilia\", \"Politecnico di Milano\",\n",
    "          'Università degli Studi di Firenze'\n",
    "          \"University of Milano-Bicocca\",\n",
    "          \"Cognitive Interaction Technology, Center of Excellence and Applied Informatics, Faculty of Technology, Bielefeld University, Bielefeld, Germany#TAB#\",\n",
    "          \"Department of Information Systems and Business Administration, Johannes Gutenberg-Universität Mainz, Jakob-Welder-Weg 9, Mainz 55128, Germany\",\n",
    "          \"Dept. of Computer Science, Uni. Politècnica de Catalunya, Spain#TAB#\", \"university of malaga\",\n",
    "          \"Computer Laboratory, University Of Cambridge\", \"New England Aquarium\",\n",
    "          \"Unconventional Computing Group, University of the West of England, Bristol, UK BS16 1QY#TAB#\",\n",
    "          \"ESIEE-Paris\", \"UNIVERSITÉ LAVAL\", \"University of Southern Denmark\", \"University of Lisbon\",\n",
    "          \"#N#University of Glasgow#N#\"]\n",
    "\n",
    "vectAMERICA = ['The University of Chicago Press, Chicago, USA']\n",
    "\n",
    "author_df = spark.read.json(\n",
    "    \"authors.json\")\n",
    "fos_df = spark.read.json(\n",
    "    \"fos.json\")\n",
    "publication_df = spark.read.json(\n",
    "    \"publications.json\")\n",
    "venue_df = spark.read.json(\n",
    "    \"venues.json\")\n",
    "rel_df = spark.read.json(\n",
    "    \"rel_dw.json\")\n",
    "\n"
   ]
  },
  {
   "cell_type": "code",
   "execution_count": 5,
   "metadata": {},
   "outputs": [
    {
     "name": "stdout",
     "output_type": "stream",
     "text": [
      "+--------------------------------------------------------------------------------------------------+\n",
      "|title                                                                                             |\n",
      "+--------------------------------------------------------------------------------------------------+\n",
      "|A methodology for the physically accurate visualisation of roman polychrome statuary              |\n",
      "|Comparison of GARCH, Neural Network and Support Vector Machine in Financial Time Series Prediction|\n",
      "|COMPARING GNG3D AND QUADRIC ERROR METRICS METHODS TO SIMPLIFY 3D MESHES                           |\n",
      "|Vectorial fast correlation attacks.                                                               |\n",
      "|Improved Secret Image Sharing Method By Encoding Shared Values With Authentication Bits           |\n",
      "|Identifying Psychological Theme Words from Emotion Annotated Interviews                           |\n",
      "|A COMPUTATIONAL SALIENCY MODEL INTEGRATING SACCADE PROGRAMMING                                    |\n",
      "|Extracted knowledge interpretation in mining biological data: A survey                            |\n",
      "|Automated Object Identification and Position Estimation for Airport Lighting Quality Assessment   |\n",
      "|Face Detection, Recognition in an Image Sequence Using Eigenedginess.                             |\n",
      "|Qualitative Spatial and Temporal Reasoning in Cardiac Electrophysiology                           |\n",
      "|Speech recognition based on the integration of FSVQ and neural network.                           |\n",
      "|Auditory-based formant estimation in noise using a probabilistic framework.                       |\n",
      "|A Study on the Development of High Precision Cam Profile CNC Grinding Machine with CAD/CAM System.|\n",
      "|Simple Synchrony Networks: Learning Generalisations across Syntactic Constituents.                |\n",
      "|Multi-layer topology preserving mapping for K-means clustering                                    |\n",
      "|A general semantic analyser for data base access                                                  |\n",
      "|Kernel PLS variants for regression                                                                |\n",
      "|Two notes from experimental study on image steganalysis                                           |\n",
      "|Near-synonym choice in natural language generation                                                |\n",
      "+--------------------------------------------------------------------------------------------------+\n",
      "only showing top 20 rows\n",
      "\n"
     ]
    }
   ],
   "source": [
    "# Query 0\n",
    "fos_df.filter(col(\"name\") == \"Artificial intelligence\") \\\n",
    "    .join(rel_df, fos_df.id == rel_df.fos_id, \"inner\") \\\n",
    "    .join(publication_df, rel_df.pub_id == publication_df.id, \"inner\") \\\n",
    "    .select(\"title\").show(truncate=False)\n"
   ]
  },
  {
   "cell_type": "code",
   "execution_count": 6,
   "metadata": {},
   "outputs": [
    {
     "name": "stdout",
     "output_type": "stream",
     "text": [
      "+--------------------------------------------------------------+-----------------+---------------------+\n",
      "|publicationTitle                                              |authorName       |affiliation          |\n",
      "+--------------------------------------------------------------+-----------------+---------------------+\n",
      "|Vectorial fast correlation attacks.                           |Jovan Dj. Golic  |Politecnico di Milano|\n",
      "|Vectorial fast correlation attacks.                           |Guglielmo Morgari|Politecnico di Bari  |\n",
      "|A COMPUTATIONAL SALIENCY MODEL INTEGRATING SACCADE PROGRAMMING|Tien Ho-Phuoc    |Politecnico di Milano|\n",
      "|Cleaneval: a Competition for Cleaning Web Pages               |Serge Sharoff    |Politecnico di Bari  |\n",
      "|On the Design of Local Network Interfaces.                    |David J. Farber  |Politecnico di Milano|\n",
      "+--------------------------------------------------------------+-----------------+---------------------+\n",
      "\n"
     ]
    }
   ],
   "source": [
    "# QUERY 1\n",
    "author_df.withColumnRenamed(\"id\", \"authorId\") \\\n",
    "  .filter(col(\"affiliation\").like(\"%Politecnico%\")) \\\n",
    "  .limit(5) \\\n",
    "  .join( publication_df, expr(\"array_contains(authors, authorId)\") ) \\\n",
    "  .select(col(\"title\").alias(\"publicationTitle\"), col(\"name\").alias(\"authorName\"), \"affiliation\") \\\n",
    "  .show(truncate=False)\n"
   ]
  },
  {
   "cell_type": "markdown",
   "metadata": {},
   "source": [
    "WHERE, IN Nested Query. What can we do? In SQL something like:\n",
    "\n",
    "SELECT paper\n",
    "FROM papers\n",
    "WHERE x in fos IN \n",
    "  (SELECT fos\n",
    "  FROM fos's\n",
    "  WHERE fos.name like %computer%\n",
    "  )\n",
    "\n",
    "SELECT paper\n",
    "FROM papers\n",
    "WHERE x in references IN \n",
    "  (SELECT paper\n",
    "  FROM publications\n",
    "  WHERE publication.authors.length = 1\n",
    "  )"
   ]
  },
  {
   "cell_type": "code",
   "execution_count": null,
   "metadata": {},
   "outputs": [],
   "source": [
    "# QUERY 2 - WHERE, IN Nested Query\n",
    "publication_df \\\n",
    "  .select(col(\"title\"), col(\"authors\"), col(\"references\")) \\\n",
    "  .filter(array_contains(col(\"references\"),\n",
    "    publication_df.select(col(\"id\"), col(\"authors\"))\\\n",
    "      .filter(size(\"authors\") == 1)\\\n",
    "      .select(col(\"id\"))\n",
    "  ))\n"
   ]
  },
  {
   "cell_type": "code",
   "execution_count": 23,
   "metadata": {},
   "outputs": [
    {
     "name": "stdout",
     "output_type": "stream",
     "text": [
      "+-----+--------------------+\n",
      "|   id|               title|\n",
      "+-----+--------------------+\n",
      "| 1091|Preliminary Desig...|\n",
      "| 1674|A methodology for...|\n",
      "| 1688|Comparison of GAR...|\n",
      "| 5411|COMPARING GNG3D A...|\n",
      "| 5781|Vectorial fast co...|\n",
      "| 6522|Improved Secret I...|\n",
      "| 6762|A Self-Stabilizin...|\n",
      "| 8373|Formal agent-orie...|\n",
      "| 8763|Fur Visualisation...|\n",
      "|11796|The Role of the B...|\n",
      "|11895|Speech training s...|\n",
      "|12993|Software Evolutio...|\n",
      "|13070|Knowledge Enginee...|\n",
      "|13205|Design of an audi...|\n",
      "|14870|A COMPUTATIONAL S...|\n",
      "|15548|Cleaneval: a Comp...|\n",
      "|15883|Leveraging legacy...|\n",
      "|15901|A pedestrian navi...|\n",
      "|16022|Algorithms for th...|\n",
      "|16160|Logical Derivatio...|\n",
      "+-----+--------------------+\n",
      "only showing top 20 rows\n",
      "\n"
     ]
    }
   ],
   "source": [
    "computerScience_fos = fos_df.filter(col(\"name\").contains(\"omputer\")).select(col(\"id\")).collect()\n",
    "computerScience_fos = [csf[0] for csf in computerScience_fos]\n",
    "\n",
    "computerScience_pub = rel_df.filter(col(\"fos_id\").isin(computerScience_fos)).select(col(\"pub_id\")).distinct().collect()\n",
    "computerScience_pub = [csp[0] for csp in computerScience_pub]\n",
    "\n",
    "publication_df.filter(col(\"id\").isin(computerScience_pub)).select(col(\"id\"), col(\"title\")).show()"
   ]
  },
  {
   "cell_type": "code",
   "execution_count": 7,
   "metadata": {},
   "outputs": [
    {
     "name": "stdout",
     "output_type": "stream",
     "text": [
      "percentage of publications that have fos with Computer:0.804\n"
     ]
    }
   ],
   "source": [
    "computerScience_fos = fos_df.filter(col(\"name\").contains(\"Computer\")).select(col(\"id\")).collect()\n",
    "computerScience_fos = [csf[0] for csf in computerScience_fos]\n",
    "\n",
    "count_cs_publications = rel_df.filter(col(\"fos_id\").isin(computerScience_fos)).select(col(\"pub_id\")).distinct().count()\n",
    "print(\"percentage of publications that have fos with Computer:\" + str(count_cs_publications/2500))\n"
   ]
  }
 ],
 "metadata": {
  "kernelspec": {
   "display_name": "Python 3.8.5 32-bit",
   "language": "python",
   "name": "python3"
  },
  "language_info": {
   "codemirror_mode": {
    "name": "ipython",
    "version": 3
   },
   "file_extension": ".py",
   "mimetype": "text/x-python",
   "name": "python",
   "nbconvert_exporter": "python",
   "pygments_lexer": "ipython3",
   "version": "3.8.5"
  },
  "orig_nbformat": 4,
  "vscode": {
   "interpreter": {
    "hash": "bd4b2fe26317b7ec64feb19a37ee5bffc9abe9b6e719a1294be7c9890de86bdd"
   }
  }
 },
 "nbformat": 4,
 "nbformat_minor": 2
}
