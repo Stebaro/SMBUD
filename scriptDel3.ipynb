{
 "cells": [
  {
   "cell_type": "code",
   "execution_count": 10,
   "metadata": {},
   "outputs": [],
   "source": [
    "from pyspark.sql import SparkSession\n",
    "\n",
    "spark = SparkSession \\\n",
    "    .builder \\\n",
    "    .master(\"local\") \\\n",
    "    .appName(\"Python Spark SQL delivery 3\") \\\n",
    "    .getOrCreate()\n",
    "\n",
    "sc = spark.sparkContext"
   ]
  },
  {
   "cell_type": "code",
   "execution_count": 20,
   "metadata": {},
   "outputs": [],
   "source": [
    "# A JSON dataset is pointed to by path.\n",
    "# The path can be either a single text file or a directory storing text files\n",
    "publications_file = \"publications.json\"\n",
    "venues_file = \"venues.json\"\n",
    "fos_file = \"fos.json\"\n",
    "rel_dw_file = \"rel_dw.json\"\n",
    "authors_file = \"authors.json\"\n",
    "\n",
    "publicationsDF = spark.read.json(publications_file)\n",
    "venuesDF = spark.read.json(venues_file)\n",
    "fosDF = spark.read.json(fos_file)\n",
    "rel_dwDF = spark.read.json(rel_dw_file)\n",
    "authorsDF = spark.read.json(authors_file)"
   ]
  },
  {
   "cell_type": "code",
   "execution_count": 12,
   "metadata": {},
   "outputs": [
    {
     "name": "stdout",
     "output_type": "stream",
     "text": [
      "root\n",
      " |-- abstract: string (nullable = true)\n",
      " |-- authors: array (nullable = true)\n",
      " |    |-- element: long (containsNull = true)\n",
      " |-- id: long (nullable = true)\n",
      " |-- pages: long (nullable = true)\n",
      " |-- publisher: string (nullable = true)\n",
      " |-- references: array (nullable = true)\n",
      " |    |-- element: long (containsNull = true)\n",
      " |-- title: string (nullable = true)\n",
      " |-- type: string (nullable = true)\n",
      " |-- venue: long (nullable = true)\n",
      "\n"
     ]
    }
   ],
   "source": [
    "# The inferred schema can be visualized using the printSchema() method\n",
    "publicationsDF.printSchema()"
   ]
  },
  {
   "cell_type": "code",
   "execution_count": 13,
   "metadata": {},
   "outputs": [
    {
     "name": "stdout",
     "output_type": "stream",
     "text": [
      "+--------------------+--------------------+----+-----+--------------------+--------------------+--------------------+----------+----------+\n",
      "|            abstract|             authors|  id|pages|           publisher|          references|               title|      type|     venue|\n",
      "+--------------------+--------------------+----+-----+--------------------+--------------------+--------------------+----------+----------+\n",
      "|Abstract of Preli...|[2312688602, 2482...|1091|    6|Springer, Berlin,...|[1091, 6762, 1674...|Preliminary Desig...|Conference|1127419992|\n",
      "|Abstract of Furth...|        [2718958994]|1388|   13|   PoliPrint, Milano|  [8763, 1674, 1688]|Further Results o...|   Journal|  73158690|\n",
      "|Abstract of A met...|[2103626414, 2117...|1674|   11|Eurographics Asso...|        [5781, 1091]|A methodology for...|Conference|2754954274|\n",
      "|Abstract of Compa...|[2300589394, 2308...|1688|    3|Springer, Berlin,...|[1388, 5411, 8373...|Comparison of GAR...|Conference|1136274694|\n",
      "|Abstract of COMPA...|[2125293936, 2101...|5411|   12|   PoliPrint, Milano|        [1674, 5781]|COMPARING GNG3D A...|Conference|1136212596|\n",
      "|Abstract of Vecto...|[1237859792, 2208...|5781|   16|   PoliPrint, Milano|[1688, 8373, 6522...|Vectorial fast co...|Repository|2764847869|\n",
      "|Abstract of Impro...|[2022192081, 2023...|6522|    7|    Springer, London|[1091, 1688, 6522...|Improved Secret I...|Conference|1125967516|\n",
      "|Abstract of A Sel...|[2142249029, 2113...|6762|   15|   PoliPrint, Milano|        [8763, 6762]|A Self-Stabilizin...|Conference|1196153040|\n",
      "|Abstract of Forma...|        [2611851107]|8373|   12|Springer, Berlin,...|[1688, 1091, 1388...|Formal agent-orie...|Conference|1123338449|\n",
      "|Abstract of Fur V...|[2156900172, 2281...|8763|    1|      Springer, Cham|[1674, 5411, 6762...|Fur Visualisation...|Conference|1196868077|\n",
      "+--------------------+--------------------+----+-----+--------------------+--------------------+--------------------+----------+----------+\n",
      "\n"
     ]
    }
   ],
   "source": [
    "publicationsDF.show(truncate=True)"
   ]
  },
  {
   "cell_type": "code",
   "execution_count": 14,
   "metadata": {},
   "outputs": [
    {
     "name": "stdout",
     "output_type": "stream",
     "text": [
      "+------------------------------------------------------------------------------------------------+\n",
      "|authors                                                                                         |\n",
      "+------------------------------------------------------------------------------------------------+\n",
      "|[2312688602, 2482909946, 2128134587, 2101782692, 2114054191, 1989208940, 2134989941, 2307479915]|\n",
      "|[2718958994]                                                                                    |\n",
      "|[2103626414, 2117665592]                                                                        |\n",
      "|[2300589394, 2308774408, 2126056503, 2425818370]                                                |\n",
      "|[2125293936, 2101693188, 2159120860, 2146570697]                                                |\n",
      "|[1237859792, 220887178]                                                                         |\n",
      "|[2022192081, 2023460672, 2174205032]                                                            |\n",
      "|[2142249029, 2113592602]                                                                        |\n",
      "|[2611851107]                                                                                    |\n",
      "|[2156900172, 2281900701]                                                                        |\n",
      "+------------------------------------------------------------------------------------------------+\n",
      "\n"
     ]
    }
   ],
   "source": [
    "publicationsDF.select(\"authors\").show(truncate=False)"
   ]
  },
  {
   "cell_type": "code",
   "execution_count": 24,
   "metadata": {},
   "outputs": [],
   "source": [
    "from pyspark.sql.functions import col"
   ]
  },
  {
   "cell_type": "code",
   "execution_count": 19,
   "metadata": {},
   "outputs": [
    {
     "name": "stdout",
     "output_type": "stream",
     "text": [
      "+--------------------+--------------------+\n",
      "|                  id|                name|\n",
      "+--------------------+--------------------+\n",
      "|ac6663816c9635e15...|Telecommunication...|\n",
      "|284fcfb183d191953...|    Computer science|\n",
      "|d17475f16d76e4052...|            Mind map|\n",
      "|c2a5462d06dd702e2...|Human–computer in...|\n",
      "|2f56b4f336dc97edf...|          Multimedia|\n",
      "|ff369ad079366681e...|  Empirical research|\n",
      "|28e169980e17fc27c...|       Comprehension|\n",
      "|2e74da7ce756356a0...|Communications pr...|\n",
      "|4cdbd2bafa8193091...|               Graph|\n",
      "|27ce971356df02c63...|Discrete mathematics|\n",
      "|6c2f06ae9649fffd1...|       Combinatorics|\n",
      "|05df30932021c3376...|      Direct product|\n",
      "|540b21ecdb276f508...|         Mathematics|\n",
      "|f34b29e2dd11d27c2...|              Statue|\n",
      "|e3df226c8bed88438...| Engineering drawing|\n",
      "|7c0d914a5aa9dc8f2...|Virtual reconstru...|\n",
      "|ce09e3d6818263940...|       Visualization|\n",
      "|1e1b9006b2ad5f189...|          Polychrome|\n",
      "|9d0996a44c6d51cf2...|Artificial intell...|\n",
      "|b2a57f84041a796df...|Autoregressive–mo...|\n",
      "+--------------------+--------------------+\n",
      "only showing top 20 rows\n",
      "\n",
      "+--------------------------------------------------------------------------------------------------------------------------------------------------------------------------------------------------------------+------------------------------------------------------------------------------------------------+----+-----+----------------------------+------------------------------------+---------------------------------------------------------------------------------------------------------------------------------------------------------------+----------+----------+\n",
      "|abstract                                                                                                                                                                                                      |authors                                                                                         |id  |pages|publisher                   |references                          |title                                                                                                                                                          |type      |venue     |\n",
      "+--------------------------------------------------------------------------------------------------------------------------------------------------------------------------------------------------------------+------------------------------------------------------------------------------------------------+----+-----+----------------------------+------------------------------------+---------------------------------------------------------------------------------------------------------------------------------------------------------------+----------+----------+\n",
      "|Abstract of Preliminary Design of a Network Protocol Learning Tool Based on the Comprehension of High School Students: Design by an Empirical Study Using a Simple Mind Map: quasi ullam vel laudantium veniam|[2312688602, 2482909946, 2128134587, 2101782692, 2114054191, 1989208940, 2134989941, 2307479915]|1091|6    |Springer, Berlin, Heidelberg|[1091, 6762, 1674, 8373]            |Preliminary Design of a Network Protocol Learning Tool Based on the Comprehension of High School Students: Design by an Empirical Study Using a Simple Mind Map|Conference|1127419992|\n",
      "|Abstract of Further Results on Independence in Direct-Product Graphs.: delectus aliquam consequatur itaque possimus                                                                                           |[2718958994]                                                                                    |1388|13   |PoliPrint, Milano           |[8763, 1674, 1688]                  |Further Results on Independence in Direct-Product Graphs.                                                                                                      |Journal   |73158690  |\n",
      "|Abstract of A methodology for the physically accurate visualisation of roman polychrome statuary: cupiditate nam dolor rerum nobis                                                                            |[2103626414, 2117665592]                                                                        |1674|11   |Eurographics Association    |[5781, 1091]                        |A methodology for the physically accurate visualisation of roman polychrome statuary                                                                           |Conference|2754954274|\n",
      "|Abstract of Comparison of GARCH, Neural Network and Support Vector Machine in Financial Time Series Prediction: temporibus quas illo consectetur beatae                                                       |[2300589394, 2308774408, 2126056503, 2425818370]                                                |1688|3    |Springer, Berlin, Heidelberg|[1388, 5411, 8373, 1091, 1674, 1688]|Comparison of GARCH, Neural Network and Support Vector Machine in Financial Time Series Prediction                                                             |Conference|1136274694|\n",
      "|Abstract of COMPARING GNG3D AND QUADRIC ERROR METRICS METHODS TO SIMPLIFY 3D MESHES: officia fugiat deleniti voluptatem ducimus                                                                               |[2125293936, 2101693188, 2159120860, 2146570697]                                                |5411|12   |PoliPrint, Milano           |[1674, 5781]                        |COMPARING GNG3D AND QUADRIC ERROR METRICS METHODS TO SIMPLIFY 3D MESHES                                                                                        |Conference|1136212596|\n",
      "|Abstract of Vectorial fast correlation attacks.: maxime laborum in eligendi molestias                                                                                                                         |[1237859792, 220887178]                                                                         |5781|16   |PoliPrint, Milano           |[1688, 8373, 6522, 1388, 1091]      |Vectorial fast correlation attacks.                                                                                                                            |Repository|2764847869|\n",
      "|Abstract of Improved Secret Image Sharing Method By Encoding Shared Values With Authentication Bits: eos similique illum ipsam quod                                                                           |[2022192081, 2023460672, 2174205032]                                                            |6522|7    |Springer, London            |[1091, 1688, 6522, 1674, 6762, 5411]|Improved Secret Image Sharing Method By Encoding Shared Values With Authentication Bits                                                                        |Conference|1125967516|\n",
      "|Abstract of A Self-Stabilizing Algorithm for Finding the Cutting Center of a Tree.: quod distinctio recusandae quisquam ad                                                                                    |[2142249029, 2113592602]                                                                        |6762|15   |PoliPrint, Milano           |[8763, 6762]                        |A Self-Stabilizing Algorithm for Finding the Cutting Center of a Tree.                                                                                         |Conference|1196153040|\n",
      "|Abstract of Formal agent-oriented ubiquitous computing: a computational intelligence support for information and services integration: sunt voluptatem laudantium dolore natus                                |[2611851107]                                                                                    |8373|12   |Springer, Berlin, Heidelberg|[1688, 1091, 1388, 5781, 5411]      |Formal agent-oriented ubiquitous computing: a computational intelligence support for information and services integration                                      |Conference|1123338449|\n",
      "|Abstract of Fur Visualisation for Computer Game Engines and Real-Time Rendering: alias tempore blanditiis facere itaque                                                                                       |[2156900172, 2281900701]                                                                        |8763|1    |Springer, Cham              |[1674, 5411, 6762, 1388, 8373, 8763]|Fur Visualisation for Computer Game Engines and Real-Time Rendering                                                                                            |Conference|1196868077|\n",
      "+--------------------------------------------------------------------------------------------------------------------------------------------------------------------------------------------------------------+------------------------------------------------------------------------------------------------+----+-----+----------------------------+------------------------------------+---------------------------------------------------------------------------------------------------------------------------------------------------------------+----------+----------+\n",
      "\n"
     ]
    }
   ],
   "source": [
    "fosDF.show()\n",
    "publicationsDF.show(truncate= False)"
   ]
  },
  {
   "cell_type": "code",
   "execution_count": 32,
   "metadata": {},
   "outputs": [
    {
     "name": "stdout",
     "output_type": "stream",
     "text": [
      "+--------------------+--------------------+--------------------+------+-------+--------------------+--------------------+----+-----+--------------------+--------------------+--------------------+----------+----------+\n",
      "|                  id|                name|              fos_id|pub_id| weight|            abstract|             authors|  id|pages|           publisher|          references|               title|      type|     venue|\n",
      "+--------------------+--------------------+--------------------+------+-------+--------------------+--------------------+----+-----+--------------------+--------------------+--------------------+----------+----------+\n",
      "|9d0996a44c6d51cf2...|Artificial intell...|9d0996a44c6d51cf2...|  1674|0.40496|Abstract of A met...|[2103626414, 2117...|1674|   11|Eurographics Asso...|        [5781, 1091]|A methodology for...|Conference|2754954274|\n",
      "|9d0996a44c6d51cf2...|Artificial intell...|9d0996a44c6d51cf2...|  1688|    0.0|Abstract of Compa...|[2300589394, 2308...|1688|    3|Springer, Berlin,...|[1388, 5411, 8373...|Comparison of GAR...|Conference|1136274694|\n",
      "|9d0996a44c6d51cf2...|Artificial intell...|9d0996a44c6d51cf2...|  5411|    0.0|Abstract of COMPA...|[2125293936, 2101...|5411|   12|   PoliPrint, Milano|        [1674, 5781]|COMPARING GNG3D A...|Conference|1136212596|\n",
      "|9d0996a44c6d51cf2...|Artificial intell...|9d0996a44c6d51cf2...|  5781|    0.0|Abstract of Vecto...|[1237859792, 2208...|5781|   16|   PoliPrint, Milano|[1688, 8373, 6522...|Vectorial fast co...|Repository|2764847869|\n",
      "|9d0996a44c6d51cf2...|Artificial intell...|9d0996a44c6d51cf2...|  6522|    0.0|Abstract of Impro...|[2022192081, 2023...|6522|    7|    Springer, London|[1091, 1688, 6522...|Improved Secret I...|Conference|1125967516|\n",
      "+--------------------+--------------------+--------------------+------+-------+--------------------+--------------------+----+-----+--------------------+--------------------+--------------------+----------+----------+\n",
      "\n"
     ]
    }
   ],
   "source": [
    "# WHERE, JOIN\n",
    "fosDF.filter(col(\"name\") == \"Artificial intelligence\").join(rel_dwDF, fosDF.id == rel_dwDF.fos_id, \"inner\").join(publicationsDF, rel_dwDF.pub_id == publicationsDF.id, \"inner\").show(truncate=True)\n"
   ]
  },
  {
   "cell_type": "code",
   "execution_count": null,
   "metadata": {},
   "outputs": [],
   "source": []
  }
 ],
 "metadata": {
  "kernelspec": {
   "display_name": "Python 3.8.5 32-bit",
   "language": "python",
   "name": "python3"
  },
  "language_info": {
   "codemirror_mode": {
    "name": "ipython",
    "version": 3
   },
   "file_extension": ".py",
   "mimetype": "text/x-python",
   "name": "python",
   "nbconvert_exporter": "python",
   "pygments_lexer": "ipython3",
   "version": "3.8.5"
  },
  "orig_nbformat": 4,
  "vscode": {
   "interpreter": {
    "hash": "bd4b2fe26317b7ec64feb19a37ee5bffc9abe9b6e719a1294be7c9890de86bdd"
   }
  }
 },
 "nbformat": 4,
 "nbformat_minor": 2
}
